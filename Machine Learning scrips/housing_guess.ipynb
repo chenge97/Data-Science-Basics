{
 "cells": [
  {
   "cell_type": "code",
   "execution_count": 1,
   "metadata": {},
   "outputs": [],
   "source": [
    "## Exercise 1\n",
    "\n",
    "#You've just been hired at a real estate investment firm and they would like you to build a model for pricing houses. You are given a dataset that contains data for house prices and a few features like number of bedrooms, size in square feet and age of the house. Let's see if you can build a model that is able to predict the price. In this exercise we extend what we have learned about linear regression to a dataset with more than one feature. Here are the steps to complete it:\n",
    "\n",
    "##1. Load the dataset ../data/housing-data.csv\n",
    "##- plot the histograms for each feature\n",
    "##- create 2 variables called X and y: X shall be a matrix with 3 columns (sqft,bdrms,age) and y shall be a vector with 1 column (price)\n",
    "##- create a linear regression model in Keras with the appropriate number of inputs and output##\n",
    "##- split the data into train and test with a 20% test size\n",
    "##- train the model on the training set and check its accuracy on training and test set\n",
    "##- how's your model doing? Is the loss growing smaller?\n",
    "##- try to improve your model with these experiments:\n",
    "##   - normalize the input features with one of the rescaling techniques mentioned above\n",
    "##    - use a different value for the learning rate of your model\n",
    "##    - use a different optimizer\n",
    "##- once you're satisfied with training, check the R2score on the test set"
   ]
  },
  {
   "cell_type": "code",
   "execution_count": 2,
   "metadata": {},
   "outputs": [],
   "source": [
    "import pandas as pd\n",
    "import numpy as np\n",
    "import matplotlib.pyplot as plt\n",
    "% matplotlib inline"
   ]
  },
  {
   "cell_type": "code",
   "execution_count": 3,
   "metadata": {},
   "outputs": [
    {
     "data": {
      "text/html": [
       "<div>\n",
       "<table border=\"1\" class=\"dataframe\">\n",
       "  <thead>\n",
       "    <tr style=\"text-align: right;\">\n",
       "      <th></th>\n",
       "      <th>sqft</th>\n",
       "      <th>bdrms</th>\n",
       "      <th>age</th>\n",
       "      <th>price</th>\n",
       "    </tr>\n",
       "  </thead>\n",
       "  <tbody>\n",
       "    <tr>\n",
       "      <th>0</th>\n",
       "      <td>2104</td>\n",
       "      <td>3</td>\n",
       "      <td>70</td>\n",
       "      <td>399900</td>\n",
       "    </tr>\n",
       "    <tr>\n",
       "      <th>1</th>\n",
       "      <td>1600</td>\n",
       "      <td>3</td>\n",
       "      <td>28</td>\n",
       "      <td>329900</td>\n",
       "    </tr>\n",
       "    <tr>\n",
       "      <th>2</th>\n",
       "      <td>2400</td>\n",
       "      <td>3</td>\n",
       "      <td>44</td>\n",
       "      <td>369000</td>\n",
       "    </tr>\n",
       "    <tr>\n",
       "      <th>3</th>\n",
       "      <td>1416</td>\n",
       "      <td>2</td>\n",
       "      <td>49</td>\n",
       "      <td>232000</td>\n",
       "    </tr>\n",
       "    <tr>\n",
       "      <th>4</th>\n",
       "      <td>3000</td>\n",
       "      <td>4</td>\n",
       "      <td>75</td>\n",
       "      <td>539900</td>\n",
       "    </tr>\n",
       "  </tbody>\n",
       "</table>\n",
       "</div>"
      ],
      "text/plain": [
       "   sqft  bdrms  age   price\n",
       "0  2104      3   70  399900\n",
       "1  1600      3   28  329900\n",
       "2  2400      3   44  369000\n",
       "3  1416      2   49  232000\n",
       "4  3000      4   75  539900"
      ]
     },
     "execution_count": 3,
     "metadata": {},
     "output_type": "execute_result"
    }
   ],
   "source": [
    "df = pd.read_csv('data/housing-data.csv')\n",
    "df.head()"
   ]
  },
  {
   "cell_type": "code",
   "execution_count": 4,
   "metadata": {
    "scrolled": true
   },
   "outputs": [
    {
     "data": {
      "image/png": "[encoded data removed]",
      "text/plain": [
       "<matplotlib.figure.Figure at 0x2696b414048>"
      ]
     },
     "metadata": {},
     "output_type": "display_data"
    }
   ],
   "source": [
    "plt.figure(figsize=(30,5))\n",
    "\n",
    "for i, feature in enumerate(df.columns):\n",
    "    plt.subplot(1,4,i+1)\n",
    "    df[feature].plot(kind='hist', title= feature)\n",
    "    plt.xlabel(feature)"
   ]
  },
  {
   "cell_type": "code",
   "execution_count": 5,
   "metadata": {},
   "outputs": [],
   "source": [
    "X = df[['sqft' , 'bdrms', 'age']].values\n",
    "y = df['price'].values"
   ]
  },
  {
   "cell_type": "code",
   "execution_count": 6,
   "metadata": {},
   "outputs": [
    {
     "data": {
      "text/plain": [
       "(47, 3)"
      ]
     },
     "execution_count": 6,
     "metadata": {},
     "output_type": "execute_result"
    }
   ],
   "source": [
    "X.shape"
   ]
  },
  {
   "cell_type": "code",
   "execution_count": 7,
   "metadata": {},
   "outputs": [
    {
     "data": {
      "text/plain": [
       "(47,)"
      ]
     },
     "execution_count": 7,
     "metadata": {},
     "output_type": "execute_result"
    }
   ],
   "source": [
    "y.shape"
   ]
  },
  {
   "cell_type": "code",
   "execution_count": 8,
   "metadata": {},
   "outputs": [],
   "source": [
    "df['sqft1000'] = df['sqft'] / 1000\n",
    "df['age10'] = df['age'] / 10\n",
    "df['price100k'] = df['price'] / 100000"
   ]
  },
  {
   "cell_type": "code",
   "execution_count": 9,
   "metadata": {},
   "outputs": [],
   "source": [
    "X = df[['sqft1000' , 'bdrms', 'age10']].values\n",
    "y = df['price100k'].values"
   ]
  },
  {
   "cell_type": "code",
   "execution_count": 10,
   "metadata": {},
   "outputs": [
    {
     "data": {
      "text/plain": [
       "array([[ 2.104,  3.   ,  7.   ],\n",
       "       [ 1.6  ,  3.   ,  2.8  ],\n",
       "       [ 2.4  ,  3.   ,  4.4  ],\n",
       "       [ 1.416,  2.   ,  4.9  ],\n",
       "       [ 3.   ,  4.   ,  7.5  ],\n",
       "       [ 1.985,  4.   ,  6.1  ],\n",
       "       [ 1.534,  3.   ,  1.2  ],\n",
       "       [ 1.427,  3.   ,  5.7  ],\n",
       "       [ 1.38 ,  3.   ,  1.4  ],\n",
       "       [ 1.494,  3.   ,  1.5  ],\n",
       "       [ 1.94 ,  4.   ,  0.7  ],\n",
       "       [ 2.   ,  3.   ,  2.7  ],\n",
       "       [ 1.89 ,  3.   ,  4.5  ],\n",
       "       [ 4.478,  5.   ,  4.9  ],\n",
       "       [ 1.268,  3.   ,  5.8  ],\n",
       "       [ 2.3  ,  4.   ,  7.7  ],\n",
       "       [ 1.32 ,  2.   ,  6.2  ],\n",
       "       [ 1.236,  3.   ,  7.8  ],\n",
       "       [ 2.609,  4.   ,  0.5  ],\n",
       "       [ 3.031,  4.   ,  2.1  ],\n",
       "       [ 1.767,  3.   ,  4.4  ],\n",
       "       [ 1.888,  2.   ,  7.9  ],\n",
       "       [ 1.604,  3.   ,  1.3  ],\n",
       "       [ 1.962,  4.   ,  5.3  ],\n",
       "       [ 3.89 ,  3.   ,  3.6  ],\n",
       "       [ 1.1  ,  3.   ,  6.   ],\n",
       "       [ 1.458,  3.   ,  2.9  ],\n",
       "       [ 2.526,  3.   ,  1.3  ],\n",
       "       [ 2.2  ,  3.   ,  2.8  ],\n",
       "       [ 2.637,  3.   ,  2.5  ],\n",
       "       [ 1.839,  2.   ,  4.   ],\n",
       "       [ 1.   ,  1.   ,  0.5  ],\n",
       "       [ 2.04 ,  4.   ,  7.5  ],\n",
       "       [ 3.137,  3.   ,  6.7  ],\n",
       "       [ 1.811,  4.   ,  2.4  ],\n",
       "       [ 1.437,  3.   ,  5.   ],\n",
       "       [ 1.239,  3.   ,  2.2  ],\n",
       "       [ 2.132,  4.   ,  2.8  ],\n",
       "       [ 4.215,  4.   ,  6.6  ],\n",
       "       [ 2.162,  4.   ,  4.3  ],\n",
       "       [ 1.664,  2.   ,  4.   ],\n",
       "       [ 2.238,  3.   ,  3.7  ],\n",
       "       [ 2.567,  4.   ,  5.7  ],\n",
       "       [ 1.2  ,  3.   ,  7.6  ],\n",
       "       [ 0.852,  2.   ,  7.   ],\n",
       "       [ 1.852,  4.   ,  6.4  ],\n",
       "       [ 1.203,  3.   ,  1.1  ]])"
      ]
     },
     "execution_count": 10,
     "metadata": {},
     "output_type": "execute_result"
    }
   ],
   "source": [
    "X"
   ]
  },
  {
   "cell_type": "code",
   "execution_count": 11,
   "metadata": {},
   "outputs": [
    {
     "data": {
      "text/plain": [
       "array([ 3.999  ,  3.299  ,  3.69   ,  2.32   ,  5.399  ,  2.999  ,\n",
       "        3.149  ,  1.98999,  2.12   ,  2.425  ,  2.39999,  3.47   ,\n",
       "        3.29999,  6.999  ,  2.599  ,  4.499  ,  2.999  ,  1.999  ,\n",
       "        4.99998,  5.99   ,  2.529  ,  2.55   ,  2.429  ,  2.599  ,\n",
       "        5.739  ,  2.499  ,  4.645  ,  4.69   ,  4.75   ,  2.999  ,\n",
       "        3.499  ,  1.699  ,  3.149  ,  5.799  ,  2.859  ,  2.499  ,\n",
       "        2.299  ,  3.45   ,  5.49   ,  2.87   ,  3.685  ,  3.299  ,\n",
       "        3.14   ,  2.99   ,  1.799  ,  2.999  ,  2.395  ])"
      ]
     },
     "execution_count": 11,
     "metadata": {},
     "output_type": "execute_result"
    }
   ],
   "source": [
    "y"
   ]
  },
  {
   "cell_type": "code",
   "execution_count": 12,
   "metadata": {},
   "outputs": [
    {
     "name": "stderr",
     "output_type": "stream",
     "text": [
      "Using TensorFlow backend.\n"
     ]
    }
   ],
   "source": [
    "from keras.models import Sequential\n",
    "from keras.layers import Dense\n",
    "from keras.optimizers import Adam, SGD\n",
    "from sklearn.model_selection import train_test_split"
   ]
  },
  {
   "cell_type": "code",
   "execution_count": 22,
   "metadata": {},
   "outputs": [
    {
     "name": "stdout",
     "output_type": "stream",
     "text": [
      "Epoch 1/100\n",
      "37/37 [==============================] - 0s - loss: 138.0911     \n",
      "Epoch 2/100\n",
      "37/37 [==============================] - 0s - loss: 26.4684     \n",
      "Epoch 3/100\n",
      "37/37 [==============================] - 0s - loss: 97.0572      \n",
      "Epoch 4/100\n",
      "37/37 [==============================] - 0s - loss: 21.1326     \n",
      "Epoch 5/100\n",
      "37/37 [==============================] - 0s - loss: 10.4250    \n",
      "Epoch 6/100\n",
      "37/37 [==============================] - 0s - loss: 34.1212     \n",
      "Epoch 7/100\n",
      "37/37 [==============================] - 0s - loss: 12.7581     \n",
      "Epoch 8/100\n",
      "37/37 [==============================] - 0s - loss: 3.8720     \n",
      "Epoch 9/100\n",
      "37/37 [==============================] - 0s - loss: 18.2627     \n",
      "Epoch 10/100\n",
      "37/37 [==============================] - 0s - loss: 9.7723      \n",
      "Epoch 11/100\n",
      "37/37 [==============================] - 0s - loss: 1.4037     \n",
      "Epoch 12/100\n",
      "37/37 [==============================] - 0s - loss: 8.4787     \n",
      "Epoch 13/100\n",
      "37/37 [==============================] - 0s - loss: 6.7258     \n",
      "Epoch 14/100\n",
      "37/37 [==============================] - 0s - loss: 0.9553     \n",
      "Epoch 15/100\n",
      "37/37 [==============================] - 0s - loss: 2.6769     \n",
      "Epoch 16/100\n",
      "37/37 [==============================] - 0s - loss: 3.0096     \n",
      "Epoch 17/100\n",
      "37/37 [==============================] - 0s - loss: 1.0278     \n",
      "Epoch 18/100\n",
      "37/37 [==============================] - 0s - loss: 1.7358     \n",
      "Epoch 19/100\n",
      "37/37 [==============================] - 0s - loss: 2.1029     \n",
      "Epoch 20/100\n",
      "37/37 [==============================] - 0s - loss: 1.0910     \n",
      "Epoch 21/100\n",
      "37/37 [==============================] - 0s - loss: 0.6581     \n",
      "Epoch 22/100\n",
      "37/37 [==============================] - 0s - loss: 0.8481     \n",
      "Epoch 23/100\n",
      "37/37 [==============================] - 0s - loss: 0.8394     \n",
      "Epoch 24/100\n",
      "37/37 [==============================] - 0s - loss: 0.5827     \n",
      "Epoch 25/100\n",
      "37/37 [==============================] - 0s - loss: 0.5300     \n",
      "Epoch 26/100\n",
      "37/37 [==============================] - 0s - loss: 0.5801     \n",
      "Epoch 27/100\n",
      "37/37 [==============================] - 0s - loss: 0.4708     \n",
      "Epoch 28/100\n",
      "37/37 [==============================] - 0s - loss: 0.6789     \n",
      "Epoch 29/100\n",
      "37/37 [==============================] - 0s - loss: 0.5499     \n",
      "Epoch 30/100\n",
      "37/37 [==============================] - 0s - loss: 0.5807     \n",
      "Epoch 31/100\n",
      "37/37 [==============================] - 0s - loss: 0.7065     \n",
      "Epoch 32/100\n",
      "37/37 [==============================] - 0s - loss: 0.5023     \n",
      "Epoch 33/100\n",
      "37/37 [==============================] - 0s - loss: 0.5123     \n",
      "Epoch 34/100\n",
      "37/37 [==============================] - 0s - loss: 0.6626     \n",
      "Epoch 35/100\n",
      "37/37 [==============================] - 0s - loss: 0.5214     \n",
      "Epoch 36/100\n",
      "37/37 [==============================] - 0s - loss: 0.5522     \n",
      "Epoch 37/100\n",
      "37/37 [==============================] - 0s - loss: 0.6432     \n",
      "Epoch 38/100\n",
      "37/37 [==============================] - 0s - loss: 0.4939     \n",
      "Epoch 39/100\n",
      "37/37 [==============================] - 0s - loss: 0.6407     \n",
      "Epoch 40/100\n",
      "37/37 [==============================] - 0s - loss: 0.6259     \n",
      "Epoch 41/100\n",
      "37/37 [==============================] - 0s - loss: 0.4780     \n",
      "Epoch 42/100\n",
      "37/37 [==============================] - 0s - loss: 0.6368     \n",
      "Epoch 43/100\n",
      "37/37 [==============================] - 0s - loss: 0.6029     \n",
      "Epoch 44/100\n",
      "37/37 [==============================] - 0s - loss: 0.4982     \n",
      "Epoch 45/100\n",
      "37/37 [==============================] - 0s - loss: 0.4857     \n",
      "Epoch 46/100\n",
      "37/37 [==============================] - 0s - loss: 0.4932     \n",
      "Epoch 47/100\n",
      "37/37 [==============================] - 0s - loss: 0.5108     \n",
      "Epoch 48/100\n",
      "37/37 [==============================] - 0s - loss: 0.4888     \n",
      "Epoch 49/100\n",
      "37/37 [==============================] - 0s - loss: 0.4888     \n",
      "Epoch 50/100\n",
      "37/37 [==============================] - 0s - loss: 0.5542     \n",
      "Epoch 51/100\n",
      "37/37 [==============================] - 0s - loss: 0.5358     \n",
      "Epoch 52/100\n",
      "37/37 [==============================] - 0s - loss: 0.4937     \n",
      "Epoch 53/100\n",
      "37/37 [==============================] - 0s - loss: 0.5694     \n",
      "Epoch 54/100\n",
      "37/37 [==============================] - 0s - loss: 0.4999     \n",
      "Epoch 55/100\n",
      "37/37 [==============================] - 0s - loss: 0.4874     \n",
      "Epoch 56/100\n",
      "37/37 [==============================] - 0s - loss: 0.5007     \n",
      "Epoch 57/100\n",
      "37/37 [==============================] - 0s - loss: 0.4914     \n",
      "Epoch 58/100\n",
      "37/37 [==============================] - 0s - loss: 0.4956     \n",
      "Epoch 59/100\n",
      "37/37 [==============================] - 0s - loss: 0.4910     \n",
      "Epoch 60/100\n",
      "37/37 [==============================] - 0s - loss: 0.5500     \n",
      "Epoch 61/100\n",
      "37/37 [==============================] - 0s - loss: 0.5220     \n",
      "Epoch 62/100\n",
      "37/37 [==============================] - 0s - loss: 0.4791     \n",
      "Epoch 63/100\n",
      "37/37 [==============================] - 0s - loss: 0.4874     \n",
      "Epoch 64/100\n",
      "37/37 [==============================] - 0s - loss: 0.5704     \n",
      "Epoch 65/100\n",
      "37/37 [==============================] - 0s - loss: 0.5609     \n",
      "Epoch 66/100\n",
      "37/37 [==============================] - 0s - loss: 0.5383     \n",
      "Epoch 67/100\n",
      "37/37 [==============================] - 0s - loss: 0.5474     \n",
      "Epoch 68/100\n",
      "37/37 [==============================] - 0s - loss: 0.4796     \n",
      "Epoch 69/100\n",
      "37/37 [==============================] - 0s - loss: 0.5415     \n",
      "Epoch 70/100\n",
      "37/37 [==============================] - 0s - loss: 0.5106     \n",
      "Epoch 71/100\n",
      "37/37 [==============================] - 0s - loss: 0.5717     \n",
      "Epoch 72/100\n",
      "37/37 [==============================] - 0s - loss: 0.6812     \n",
      "Epoch 73/100\n",
      "37/37 [==============================] - 0s - loss: 0.4800     \n",
      "Epoch 74/100\n",
      "37/37 [==============================] - 0s - loss: 0.6602     \n",
      "Epoch 75/100\n",
      "37/37 [==============================] - 0s - loss: 0.4758     \n",
      "Epoch 76/100\n",
      "37/37 [==============================] - 0s - loss: 0.7472     \n",
      "Epoch 77/100\n",
      "37/37 [==============================] - 0s - loss: 0.5175     \n",
      "Epoch 78/100\n",
      "37/37 [==============================] - 0s - loss: 0.8706     \n",
      "Epoch 79/100\n",
      "37/37 [==============================] - 0s - loss: 0.6578     \n",
      "Epoch 80/100\n",
      "37/37 [==============================] - 0s - loss: 0.6805     \n",
      "Epoch 81/100\n",
      "37/37 [==============================] - 0s - loss: 0.7345     \n",
      "Epoch 82/100\n",
      "37/37 [==============================] - 0s - loss: 0.5428     \n",
      "Epoch 83/100\n",
      "37/37 [==============================] - 0s - loss: 0.5240     \n",
      "Epoch 84/100\n",
      "37/37 [==============================] - 0s - loss: 0.5922     \n",
      "Epoch 85/100\n",
      "37/37 [==============================] - 0s - loss: 0.5525     \n",
      "Epoch 86/100\n",
      "37/37 [==============================] - 0s - loss: 0.5979     \n",
      "Epoch 87/100\n",
      "37/37 [==============================] - 0s - loss: 0.5159     \n",
      "Epoch 88/100\n",
      "37/37 [==============================] - 0s - loss: 0.6099     \n",
      "Epoch 89/100\n",
      "37/37 [==============================] - 0s - loss: 0.5345     \n",
      "Epoch 90/100\n",
      "37/37 [==============================] - 0s - loss: 0.4991     \n",
      "Epoch 91/100\n",
      "37/37 [==============================] - 0s - loss: 0.4699     \n",
      "Epoch 92/100\n",
      "37/37 [==============================] - 0s - loss: 0.5880     \n",
      "Epoch 93/100\n",
      "37/37 [==============================] - 0s - loss: 0.4505     \n",
      "Epoch 94/100\n",
      "37/37 [==============================] - 0s - loss: 1.0600     \n",
      "Epoch 95/100\n",
      "37/37 [==============================] - 0s - loss: 0.6739     \n",
      "Epoch 96/100\n",
      "37/37 [==============================] - 0s - loss: 0.6347     \n",
      "Epoch 97/100\n",
      "37/37 [==============================] - 0s - loss: 0.4753     \n",
      "Epoch 98/100\n",
      "37/37 [==============================] - 0s - loss: 0.7149     \n",
      "Epoch 99/100\n",
      "37/37 [==============================] - 0s - loss: 0.5176     \n",
      "Epoch 100/100\n",
      "37/37 [==============================] - 0s - loss: 0.6211     \n"
     ]
    },
    {
     "data": {
      "text/plain": [
       "<keras.callbacks.History at 0x269719a7048>"
      ]
     },
     "execution_count": 22,
     "metadata": {},
     "output_type": "execute_result"
    }
   ],
   "source": [
    "X_train, X_test, y_train , y_test = train_test_split(X, y ,test_size=0.2)\n",
    "model = Sequential()\n",
    "model.add(Dense(1, input_shape=(3,)))\n",
    "model.compile(Adam(lr=0.9),'mean_squared_error')\n",
    "model.fit(X_train, y_train, epochs=100)"
   ]
  },
  {
   "cell_type": "code",
   "execution_count": 23,
   "metadata": {},
   "outputs": [
    {
     "name": "stdout",
     "output_type": "stream",
     "text": [
      "El porcentaje de predicciones en la sección de TRAIN es : \t0.629\n",
      "El porcentaje de predicciones en la sección de TEST es : \t0.869\n"
     ]
    }
   ],
   "source": [
    "from sklearn.metrics import r2_score\n",
    "\n",
    "y_train_pred = model.predict(X_train)\n",
    "y_test_pred = model.predict(X_test)\n",
    "\n",
    "print(\"El porcentaje de predicciones en la sección de TRAIN es : \\t{:0.3f}\".format(r2_score(y_train,y_train_pred)))\n",
    "print(\"El porcentaje de predicciones en la sección de TEST es : \\t{:0.3f}\".format(r2_score(y_test,y_test_pred)))"
   ]
  },
  {
   "cell_type": "code",
   "execution_count": 28,
   "metadata": {},
   "outputs": [
    {
     "name": "stdout",
     "output_type": "stream",
     "text": [
      "Epoch 1/100\n",
      "37/37 [==============================] - 0s - loss: 0.9922     \n",
      "Epoch 2/100\n",
      "37/37 [==============================] - 0s - loss: 1.4145     \n",
      "Epoch 3/100\n",
      "37/37 [==============================] - 0s - loss: 0.7521     \n",
      "Epoch 4/100\n",
      "37/37 [==============================] - 0s - loss: 0.5787     \n",
      "Epoch 5/100\n",
      "37/37 [==============================] - 0s - loss: 0.7622     \n",
      "Epoch 6/100\n",
      "37/37 [==============================] - 0s - loss: 1.0866     \n",
      "Epoch 7/100\n",
      "37/37 [==============================] - 0s - loss: 0.5427     \n",
      "Epoch 8/100\n",
      "37/37 [==============================] - 0s - loss: 0.5204     \n",
      "Epoch 9/100\n",
      "37/37 [==============================] - 0s - loss: 0.6915     \n",
      "Epoch 10/100\n",
      "37/37 [==============================] - 0s - loss: 0.5948     \n",
      "Epoch 11/100\n",
      "37/37 [==============================] - 0s - loss: 0.5497     \n",
      "Epoch 12/100\n",
      "37/37 [==============================] - 0s - loss: 0.6580     \n",
      "Epoch 13/100\n",
      "37/37 [==============================] - 0s - loss: 0.6785     \n",
      "Epoch 14/100\n",
      "37/37 [==============================] - 0s - loss: 0.7234     \n",
      "Epoch 15/100\n",
      "37/37 [==============================] - 0s - loss: 0.5784     \n",
      "Epoch 16/100\n",
      "37/37 [==============================] - 0s - loss: 1.1540     \n",
      "Epoch 17/100\n",
      "37/37 [==============================] - 0s - loss: 0.6790     \n",
      "Epoch 18/100\n",
      "37/37 [==============================] - 0s - loss: 0.6661     \n",
      "Epoch 19/100\n",
      "37/37 [==============================] - 0s - loss: 0.5315     \n",
      "Epoch 20/100\n",
      "37/37 [==============================] - 0s - loss: 0.4989     \n",
      "Epoch 21/100\n",
      "37/37 [==============================] - 0s - loss: 0.5012     \n",
      "Epoch 22/100\n",
      "37/37 [==============================] - 0s - loss: 0.6939     \n",
      "Epoch 23/100\n",
      "37/37 [==============================] - 0s - loss: 0.5535     \n",
      "Epoch 24/100\n",
      "37/37 [==============================] - 0s - loss: 0.6215     \n",
      "Epoch 25/100\n",
      "37/37 [==============================] - 0s - loss: 0.6865     \n",
      "Epoch 26/100\n",
      "37/37 [==============================] - 0s - loss: 0.5659     \n",
      "Epoch 27/100\n",
      "37/37 [==============================] - 0s - loss: 0.4941     \n",
      "Epoch 28/100\n",
      "37/37 [==============================] - 0s - loss: 0.7184     \n",
      "Epoch 29/100\n",
      "37/37 [==============================] - 0s - loss: 0.6679     \n",
      "Epoch 30/100\n",
      "37/37 [==============================] - 0s - loss: 0.6580     \n",
      "Epoch 31/100\n",
      "37/37 [==============================] - 0s - loss: 0.5355     \n",
      "Epoch 32/100\n",
      "37/37 [==============================] - 0s - loss: 0.6417     \n",
      "Epoch 33/100\n",
      "37/37 [==============================] - 0s - loss: 0.6112     \n",
      "Epoch 34/100\n",
      "37/37 [==============================] - 0s - loss: 0.5219     \n",
      "Epoch 35/100\n",
      "37/37 [==============================] - 0s - loss: 0.5070     \n",
      "Epoch 36/100\n",
      "37/37 [==============================] - 0s - loss: 0.5484     \n",
      "Epoch 37/100\n",
      "37/37 [==============================] - 0s - loss: 0.5500     \n",
      "Epoch 38/100\n",
      "37/37 [==============================] - 0s - loss: 0.7738     \n",
      "Epoch 39/100\n",
      "37/37 [==============================] - 0s - loss: 1.2568     \n",
      "Epoch 40/100\n",
      "37/37 [==============================] - 0s - loss: 0.4598     \n",
      "Epoch 41/100\n",
      "37/37 [==============================] - 0s - loss: 2.2643     \n",
      "Epoch 42/100\n",
      "37/37 [==============================] - 0s - loss: 0.9027     \n",
      "Epoch 43/100\n",
      "37/37 [==============================] - 0s - loss: 0.6202     \n",
      "Epoch 44/100\n",
      "37/37 [==============================] - 0s - loss: 1.3932     \n",
      "Epoch 45/100\n",
      "37/37 [==============================] - 0s - loss: 0.5748     \n",
      "Epoch 46/100\n",
      "37/37 [==============================] - 0s - loss: 0.4809     \n",
      "Epoch 47/100\n",
      "37/37 [==============================] - 0s - loss: 0.6558     \n",
      "Epoch 48/100\n",
      "37/37 [==============================] - 0s - loss: 0.5254     \n",
      "Epoch 49/100\n",
      "37/37 [==============================] - 0s - loss: 0.7027     \n",
      "Epoch 50/100\n",
      "37/37 [==============================] - 0s - loss: 0.7472     \n",
      "Epoch 51/100\n",
      "37/37 [==============================] - 0s - loss: 0.5179     \n",
      "Epoch 52/100\n",
      "37/37 [==============================] - 0s - loss: 0.4896     \n",
      "Epoch 53/100\n",
      "37/37 [==============================] - 0s - loss: 0.5044     \n",
      "Epoch 54/100\n",
      "37/37 [==============================] - 0s - loss: 0.6504     \n",
      "Epoch 55/100\n",
      "37/37 [==============================] - 0s - loss: 0.7870     \n",
      "Epoch 56/100\n",
      "37/37 [==============================] - 0s - loss: 0.7099     \n",
      "Epoch 57/100\n",
      "37/37 [==============================] - 0s - loss: 0.5838     \n",
      "Epoch 58/100\n",
      "37/37 [==============================] - 0s - loss: 0.4930     \n",
      "Epoch 59/100\n",
      "37/37 [==============================] - 0s - loss: 0.5295     \n",
      "Epoch 60/100\n",
      "37/37 [==============================] - 0s - loss: 0.9183     \n",
      "Epoch 61/100\n",
      "37/37 [==============================] - 0s - loss: 0.5335     \n",
      "Epoch 62/100\n",
      "37/37 [==============================] - 0s - loss: 0.6223     \n",
      "Epoch 63/100\n",
      "37/37 [==============================] - 0s - loss: 0.5184     \n",
      "Epoch 64/100\n",
      "37/37 [==============================] - 0s - loss: 0.5048     \n",
      "Epoch 65/100\n",
      "37/37 [==============================] - 0s - loss: 0.5648     \n",
      "Epoch 66/100\n",
      "37/37 [==============================] - 0s - loss: 0.7586     \n",
      "Epoch 67/100\n",
      "37/37 [==============================] - 0s - loss: 0.6693     \n",
      "Epoch 68/100\n",
      "37/37 [==============================] - 0s - loss: 0.6424     \n",
      "Epoch 69/100\n",
      "37/37 [==============================] - 0s - loss: 0.5278     \n",
      "Epoch 70/100\n",
      "37/37 [==============================] - 0s - loss: 0.6172     \n",
      "Epoch 71/100\n",
      "37/37 [==============================] - 0s - loss: 0.6321     \n",
      "Epoch 72/100\n",
      "37/37 [==============================] - 0s - loss: 0.8580     \n",
      "Epoch 73/100\n",
      "37/37 [==============================] - 0s - loss: 0.8701     \n",
      "Epoch 74/100\n",
      "37/37 [==============================] - 0s - loss: 0.7385     \n",
      "Epoch 75/100\n",
      "37/37 [==============================] - 0s - loss: 1.1643     \n",
      "Epoch 76/100\n",
      "37/37 [==============================] - 0s - loss: 1.0452     \n",
      "Epoch 77/100\n",
      "37/37 [==============================] - 0s - loss: 0.5160     \n",
      "Epoch 78/100\n",
      "37/37 [==============================] - 0s - loss: 0.5134     \n",
      "Epoch 79/100\n",
      "37/37 [==============================] - 0s - loss: 0.5491     \n",
      "Epoch 80/100\n",
      "37/37 [==============================] - 0s - loss: 0.5456     \n",
      "Epoch 81/100\n",
      "37/37 [==============================] - 0s - loss: 0.5353     \n",
      "Epoch 82/100\n",
      "37/37 [==============================] - 0s - loss: 0.7233     \n",
      "Epoch 83/100\n",
      "37/37 [==============================] - 0s - loss: 0.5272     \n",
      "Epoch 84/100\n",
      "37/37 [==============================] - 0s - loss: 0.8839     \n",
      "Epoch 85/100\n",
      "37/37 [==============================] - 0s - loss: 1.3470     \n",
      "Epoch 86/100\n",
      "37/37 [==============================] - 0s - loss: 0.6255     \n",
      "Epoch 87/100\n",
      "37/37 [==============================] - 0s - loss: 0.7875     \n",
      "Epoch 88/100\n",
      "37/37 [==============================] - 0s - loss: 1.1459     \n",
      "Epoch 89/100\n",
      "37/37 [==============================] - 0s - loss: 1.1820     \n",
      "Epoch 90/100\n",
      "37/37 [==============================] - 0s - loss: 0.5990     \n",
      "Epoch 91/100\n",
      "37/37 [==============================] - 0s - loss: 1.2370     \n",
      "Epoch 92/100\n",
      "37/37 [==============================] - 0s - loss: 1.1394     \n",
      "Epoch 93/100\n",
      "37/37 [==============================] - 0s - loss: 1.5800     \n",
      "Epoch 94/100\n",
      "37/37 [==============================] - 0s - loss: 0.7565     \n",
      "Epoch 95/100\n",
      "37/37 [==============================] - 0s - loss: 0.6335     \n",
      "Epoch 96/100\n",
      "37/37 [==============================] - 0s - loss: 0.7419     \n",
      "Epoch 97/100\n",
      "37/37 [==============================] - 0s - loss: 1.1013     \n",
      "Epoch 98/100\n",
      "37/37 [==============================] - 0s - loss: 0.7337     \n",
      "Epoch 99/100\n",
      "37/37 [==============================] - 0s - loss: 0.5380     \n",
      "Epoch 100/100\n",
      "37/37 [==============================] - 0s - loss: 0.8552     \n"
     ]
    },
    {
     "data": {
      "text/plain": [
       "<keras.callbacks.History at 0x2697155e828>"
      ]
     },
     "execution_count": 28,
     "metadata": {},
     "output_type": "execute_result"
    }
   ],
   "source": [
    "model.fit(X_train,y_train,epochs=100,verbose=1)"
   ]
  },
  {
   "cell_type": "code",
   "execution_count": 29,
   "metadata": {},
   "outputs": [
    {
     "name": "stdout",
     "output_type": "stream",
     "text": [
      "The score in the training set is \t0.614\n",
      "The score in the test is \t0.823\n"
     ]
    }
   ],
   "source": [
    "y_train_pred = model.predict(X_train)\n",
    "y_test_pred = model.predict(X_test)\n",
    "\n",
    "print(\"The score in the training set is \\t{:0.3f}\".format(r2_score(y_train,y_train_pred)))\n",
    "print(\"The score in the test is \\t{:0.3f}\".format(r2_score(y_test,y_test_pred)))"
   ]
  }
 ],
 "metadata": {
  "kernelspec": {
   "display_name": "Python 3",
   "language": "python",
   "name": "python3"
  },
  "language_info": {
   "codemirror_mode": {
    "name": "ipython",
    "version": 3
   },
   "file_extension": ".py",
   "mimetype": "text/x-python",
   "name": "python",
   "nbconvert_exporter": "python",
   "pygments_lexer": "ipython3",
   "version": "3.5.4"
  }
 },
 "nbformat": 4,
 "nbformat_minor": 2
}
